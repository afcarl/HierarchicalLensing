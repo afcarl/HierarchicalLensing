{
 "metadata": {
  "name": "",
  "signature": "sha256:ee9c63b8427495ac88dbc9bfced95565d035e202117d118af57b4d4eb289e4b3"
 },
 "nbformat": 3,
 "nbformat_minor": 0,
 "worksheets": [
  {
   "cells": [
    {
     "cell_type": "code",
     "collapsed": false,
     "input": [
      "%matplotlib inline\n",
      "import hierarchical as hr\n",
      "import plotutils.parameterizations as par\n",
      "from pylab import *\n",
      "import wl_likelihood as wl"
     ],
     "language": "python",
     "metadata": {},
     "outputs": [],
     "prompt_number": 16
    },
    {
     "cell_type": "markdown",
     "metadata": {},
     "source": [
      "Choose some realistic parameters for the distribution of lens parameters:"
     ]
    },
    {
     "cell_type": "code",
     "collapsed": false,
     "input": [
      "mu = array([log(1e14), log(5)])\n",
      "smm = square(log(3.0)) # Factor of 10 uncertainty in mass\n",
      "scc = square(log(1.3)) # Factor of 2 uncertainty in c\n",
      "smc = -0.5*sqrt(smm*scc) # Correlation coefficient of -0.5\n",
      "sigma = array([[smm, smc], [smc, scc]])\n",
      "sigma_params = par.cov_parameters(sigma)\n",
      "savetxt('test/hier-test/true-hier-params.dat', concatenate((mu, sigma_params)))"
     ],
     "language": "python",
     "metadata": {},
     "outputs": [],
     "prompt_number": 14
    },
    {
     "cell_type": "markdown",
     "metadata": {},
     "source": [
      "Draw 50 true lens parameters from the distribution:"
     ]
    },
    {
     "cell_type": "code",
     "collapsed": false,
     "input": [
      "true_lens_pars = multivariate_normal(mu, sigma, size=50)\n",
      "loglog(exp(true_lens_pars[:,0]), exp(true_lens_pars[:,1]), '.k')\n",
      "xlabel(r'$M_{200}$')\n",
      "ylabel(r'$c$')\n",
      "savetxt('test/hier-test/true-lens-params.dat', true_lens_pars)"
     ],
     "language": "python",
     "metadata": {},
     "outputs": [
      {
       "metadata": {},
       "output_type": "display_data",
       "png": "[encoded data removed]",
       "text": [
        "<matplotlib.figure.Figure at 0x10f9e4c90>"
       ]
      }
     ],
     "prompt_number": 17
    },
    {
     "cell_type": "code",
     "collapsed": false,
     "input": [],
     "language": "python",
     "metadata": {},
     "outputs": []
    }
   ],
   "metadata": {}
  }
 ]
}